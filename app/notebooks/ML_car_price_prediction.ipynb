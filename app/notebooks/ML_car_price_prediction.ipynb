{
 "cells": [
  {
   "cell_type": "markdown",
   "id": "396e9b60",
   "metadata": {},
   "source": [
    "# Used cars price prediction"
   ]
  },
  {
   "cell_type": "markdown",
   "id": "72a6adc3",
   "metadata": {},
   "source": [
    "## Import Library"
   ]
  },
  {
   "cell_type": "code",
   "execution_count": 117,
   "id": "81068d29",
   "metadata": {},
   "outputs": [],
   "source": [
    "import pandas as pd\n",
    "import numpy as np\n",
    "\n",
    "from sklearn.linear_model import LinearRegression\n",
    "from sklearn.tree import DecisionTreeRegressor"
   ]
  },
  {
   "cell_type": "markdown",
   "id": "9e0a8312",
   "metadata": {},
   "source": [
    "## Import Data"
   ]
  },
  {
   "cell_type": "code",
   "execution_count": 118,
   "id": "3da9dff3",
   "metadata": {},
   "outputs": [
    {
     "data": {
      "text/plain": [
       "Index(['Marque', 'Modele', 'Annee_modele', 'Km',\n",
       "       'Date_premiere_mise_en_circulation', 'Carburant', 'Boite_vitesse',\n",
       "       'Puissance', 'Critere_air', 'Couleur', 'Type_vehicule', 'Pays',\n",
       "       'Prix_neuf', 'Prix_occasion'],\n",
       "      dtype='object')"
      ]
     },
     "execution_count": 118,
     "metadata": {},
     "output_type": "execute_result"
    }
   ],
   "source": [
    "car_file_path = \"data/classe_E.csv\"\n",
    "car_data = pd.read_csv(car_file_path) \n",
    "car_data.columns"
   ]
  },
  {
   "cell_type": "code",
   "execution_count": 119,
   "id": "d014532d",
   "metadata": {},
   "outputs": [
    {
     "data": {
      "text/html": [
       "<div>\n",
       "<style scoped>\n",
       "    .dataframe tbody tr th:only-of-type {\n",
       "        vertical-align: middle;\n",
       "    }\n",
       "\n",
       "    .dataframe tbody tr th {\n",
       "        vertical-align: top;\n",
       "    }\n",
       "\n",
       "    .dataframe thead th {\n",
       "        text-align: right;\n",
       "    }\n",
       "</style>\n",
       "<table border=\"1\" class=\"dataframe\">\n",
       "  <thead>\n",
       "    <tr style=\"text-align: right;\">\n",
       "      <th></th>\n",
       "      <th>Annee_modele</th>\n",
       "      <th>Km</th>\n",
       "      <th>Puissance</th>\n",
       "      <th>Prix_neuf</th>\n",
       "      <th>Prix_occasion</th>\n",
       "    </tr>\n",
       "  </thead>\n",
       "  <tbody>\n",
       "    <tr>\n",
       "      <th>count</th>\n",
       "      <td>22.000000</td>\n",
       "      <td>22.000000</td>\n",
       "      <td>22.000000</td>\n",
       "      <td>22.0</td>\n",
       "      <td>22.000000</td>\n",
       "    </tr>\n",
       "    <tr>\n",
       "      <th>mean</th>\n",
       "      <td>2014.681818</td>\n",
       "      <td>133383.272727</td>\n",
       "      <td>126.363636</td>\n",
       "      <td>75000.0</td>\n",
       "      <td>46230.181818</td>\n",
       "    </tr>\n",
       "    <tr>\n",
       "      <th>std</th>\n",
       "      <td>1.249242</td>\n",
       "      <td>69976.496241</td>\n",
       "      <td>34.578476</td>\n",
       "      <td>0.0</td>\n",
       "      <td>5892.787873</td>\n",
       "    </tr>\n",
       "    <tr>\n",
       "      <th>min</th>\n",
       "      <td>2013.000000</td>\n",
       "      <td>34675.000000</td>\n",
       "      <td>90.000000</td>\n",
       "      <td>75000.0</td>\n",
       "      <td>34914.000000</td>\n",
       "    </tr>\n",
       "    <tr>\n",
       "      <th>25%</th>\n",
       "      <td>2014.000000</td>\n",
       "      <td>78451.500000</td>\n",
       "      <td>90.000000</td>\n",
       "      <td>75000.0</td>\n",
       "      <td>41446.500000</td>\n",
       "    </tr>\n",
       "    <tr>\n",
       "      <th>50%</th>\n",
       "      <td>2014.500000</td>\n",
       "      <td>127231.000000</td>\n",
       "      <td>120.000000</td>\n",
       "      <td>75000.0</td>\n",
       "      <td>44706.000000</td>\n",
       "    </tr>\n",
       "    <tr>\n",
       "      <th>75%</th>\n",
       "      <td>2016.000000</td>\n",
       "      <td>191467.250000</td>\n",
       "      <td>150.000000</td>\n",
       "      <td>75000.0</td>\n",
       "      <td>51412.500000</td>\n",
       "    </tr>\n",
       "    <tr>\n",
       "      <th>max</th>\n",
       "      <td>2016.000000</td>\n",
       "      <td>249866.000000</td>\n",
       "      <td>200.000000</td>\n",
       "      <td>75000.0</td>\n",
       "      <td>57050.000000</td>\n",
       "    </tr>\n",
       "  </tbody>\n",
       "</table>\n",
       "</div>"
      ],
      "text/plain": [
       "       Annee_modele             Km   Puissance  Prix_neuf  Prix_occasion\n",
       "count     22.000000      22.000000   22.000000       22.0      22.000000\n",
       "mean    2014.681818  133383.272727  126.363636    75000.0   46230.181818\n",
       "std        1.249242   69976.496241   34.578476        0.0    5892.787873\n",
       "min     2013.000000   34675.000000   90.000000    75000.0   34914.000000\n",
       "25%     2014.000000   78451.500000   90.000000    75000.0   41446.500000\n",
       "50%     2014.500000  127231.000000  120.000000    75000.0   44706.000000\n",
       "75%     2016.000000  191467.250000  150.000000    75000.0   51412.500000\n",
       "max     2016.000000  249866.000000  200.000000    75000.0   57050.000000"
      ]
     },
     "execution_count": 119,
     "metadata": {},
     "output_type": "execute_result"
    }
   ],
   "source": [
    "car_data.describe()"
   ]
  },
  {
   "cell_type": "code",
   "execution_count": 120,
   "id": "9ef8f313",
   "metadata": {},
   "outputs": [
    {
     "name": "stdout",
     "output_type": "stream",
     "text": [
      "<class 'pandas.core.frame.DataFrame'>\n",
      "RangeIndex: 22 entries, 0 to 21\n",
      "Data columns (total 14 columns):\n",
      " #   Column                             Non-Null Count  Dtype  \n",
      "---  ------                             --------------  -----  \n",
      " 0   Marque                             22 non-null     object \n",
      " 1   Modele                             22 non-null     object \n",
      " 2   Annee_modele                       22 non-null     int64  \n",
      " 3   Km                                 22 non-null     int64  \n",
      " 4   Date_premiere_mise_en_circulation  22 non-null     object \n",
      " 5   Carburant                          22 non-null     object \n",
      " 6   Boite_vitesse                      22 non-null     object \n",
      " 7   Puissance                          22 non-null     int64  \n",
      " 8   Critere_air                        22 non-null     object \n",
      " 9   Couleur                            22 non-null     object \n",
      " 10  Type_vehicule                      22 non-null     object \n",
      " 11  Pays                               22 non-null     object \n",
      " 12  Prix_neuf                          22 non-null     int64  \n",
      " 13  Prix_occasion                      22 non-null     float64\n",
      "dtypes: float64(1), int64(4), object(9)\n",
      "memory usage: 2.5+ KB\n"
     ]
    }
   ],
   "source": [
    "car_data.info()"
   ]
  },
  {
   "cell_type": "code",
   "execution_count": 121,
   "id": "31565636",
   "metadata": {},
   "outputs": [
    {
     "data": {
      "text/html": [
       "<div>\n",
       "<style scoped>\n",
       "    .dataframe tbody tr th:only-of-type {\n",
       "        vertical-align: middle;\n",
       "    }\n",
       "\n",
       "    .dataframe tbody tr th {\n",
       "        vertical-align: top;\n",
       "    }\n",
       "\n",
       "    .dataframe thead th {\n",
       "        text-align: right;\n",
       "    }\n",
       "</style>\n",
       "<table border=\"1\" class=\"dataframe\">\n",
       "  <thead>\n",
       "    <tr style=\"text-align: right;\">\n",
       "      <th></th>\n",
       "      <th>Marque</th>\n",
       "      <th>Modele</th>\n",
       "      <th>Annee_modele</th>\n",
       "      <th>Km</th>\n",
       "      <th>Date_premiere_mise_en_circulation</th>\n",
       "      <th>Carburant</th>\n",
       "      <th>Boite_vitesse</th>\n",
       "      <th>Puissance</th>\n",
       "      <th>Critere_air</th>\n",
       "      <th>Couleur</th>\n",
       "      <th>Type_vehicule</th>\n",
       "      <th>Pays</th>\n",
       "      <th>Prix_neuf</th>\n",
       "      <th>Prix_occasion</th>\n",
       "    </tr>\n",
       "  </thead>\n",
       "  <tbody>\n",
       "    <tr>\n",
       "      <th>0</th>\n",
       "      <td>Mercedes</td>\n",
       "      <td>Classe E</td>\n",
       "      <td>2014</td>\n",
       "      <td>129956</td>\n",
       "      <td>2014-01-21</td>\n",
       "      <td>Gaz</td>\n",
       "      <td>Manuelle</td>\n",
       "      <td>90</td>\n",
       "      <td>Euro 4</td>\n",
       "      <td>Rouge</td>\n",
       "      <td>Monospace</td>\n",
       "      <td>Japon</td>\n",
       "      <td>75000</td>\n",
       "      <td>44892.0</td>\n",
       "    </tr>\n",
       "    <tr>\n",
       "      <th>1</th>\n",
       "      <td>Mercedes</td>\n",
       "      <td>Classe E</td>\n",
       "      <td>2016</td>\n",
       "      <td>249866</td>\n",
       "      <td>2016-07-10</td>\n",
       "      <td>Hybride</td>\n",
       "      <td>Manuelle</td>\n",
       "      <td>110</td>\n",
       "      <td>Euro 1</td>\n",
       "      <td>Rouge</td>\n",
       "      <td>Berline</td>\n",
       "      <td>Italie</td>\n",
       "      <td>75000</td>\n",
       "      <td>41132.0</td>\n",
       "    </tr>\n",
       "    <tr>\n",
       "      <th>2</th>\n",
       "      <td>Mercedes</td>\n",
       "      <td>Classe E</td>\n",
       "      <td>2015</td>\n",
       "      <td>193598</td>\n",
       "      <td>2015-06-14</td>\n",
       "      <td>Diesel</td>\n",
       "      <td>Automatique</td>\n",
       "      <td>150</td>\n",
       "      <td>Euro 5</td>\n",
       "      <td>Gris</td>\n",
       "      <td>Break</td>\n",
       "      <td>USA</td>\n",
       "      <td>75000</td>\n",
       "      <td>42390.0</td>\n",
       "    </tr>\n",
       "    <tr>\n",
       "      <th>3</th>\n",
       "      <td>Mercedes</td>\n",
       "      <td>Classe E</td>\n",
       "      <td>2013</td>\n",
       "      <td>59780</td>\n",
       "      <td>2016-01-07</td>\n",
       "      <td>Gaz</td>\n",
       "      <td>Automatique</td>\n",
       "      <td>150</td>\n",
       "      <td>Euro 4</td>\n",
       "      <td>Rouge</td>\n",
       "      <td>Berline</td>\n",
       "      <td>Espagne</td>\n",
       "      <td>75000</td>\n",
       "      <td>49600.0</td>\n",
       "    </tr>\n",
       "    <tr>\n",
       "      <th>4</th>\n",
       "      <td>Mercedes</td>\n",
       "      <td>Classe E</td>\n",
       "      <td>2014</td>\n",
       "      <td>248175</td>\n",
       "      <td>2014-06-29</td>\n",
       "      <td>Diesel</td>\n",
       "      <td>Manuelle</td>\n",
       "      <td>90</td>\n",
       "      <td>Euro 4</td>\n",
       "      <td>Blanc</td>\n",
       "      <td>Break</td>\n",
       "      <td>France</td>\n",
       "      <td>75000</td>\n",
       "      <td>34914.0</td>\n",
       "    </tr>\n",
       "  </tbody>\n",
       "</table>\n",
       "</div>"
      ],
      "text/plain": [
       "     Marque    Modele  Annee_modele      Km Date_premiere_mise_en_circulation  \\\n",
       "0  Mercedes  Classe E          2014  129956                        2014-01-21   \n",
       "1  Mercedes  Classe E          2016  249866                        2016-07-10   \n",
       "2  Mercedes  Classe E          2015  193598                        2015-06-14   \n",
       "3  Mercedes  Classe E          2013   59780                        2016-01-07   \n",
       "4  Mercedes  Classe E          2014  248175                        2014-06-29   \n",
       "\n",
       "  Carburant Boite_vitesse  Puissance Critere_air Couleur Type_vehicule  \\\n",
       "0       Gaz      Manuelle         90      Euro 4   Rouge     Monospace   \n",
       "1   Hybride      Manuelle        110      Euro 1   Rouge       Berline   \n",
       "2    Diesel   Automatique        150      Euro 5    Gris         Break   \n",
       "3       Gaz   Automatique        150      Euro 4   Rouge       Berline   \n",
       "4    Diesel      Manuelle         90      Euro 4   Blanc         Break   \n",
       "\n",
       "      Pays  Prix_neuf  Prix_occasion  \n",
       "0    Japon      75000        44892.0  \n",
       "1   Italie      75000        41132.0  \n",
       "2      USA      75000        42390.0  \n",
       "3  Espagne      75000        49600.0  \n",
       "4   France      75000        34914.0  "
      ]
     },
     "execution_count": 121,
     "metadata": {},
     "output_type": "execute_result"
    }
   ],
   "source": [
    "car_data.head()"
   ]
  },
  {
   "cell_type": "code",
   "execution_count": 122,
   "id": "f1bf2d4f",
   "metadata": {},
   "outputs": [
    {
     "name": "stdout",
     "output_type": "stream",
     "text": [
      "[]\n"
     ]
    }
   ],
   "source": [
    "# Select features\n",
    "X = car_data.drop(['Prix_occasion'], axis=1)\n",
    "y = car_data.Prix_occasion\n",
    "# Select categorical columns\n",
    "categorical_cols = [cname for cname in X.columns if\n",
    "                    X[cname].dtype == \"object\"]\n",
    "# Select numerical columns\n",
    "numerical_cols = [cname for cname in X.columns if\n",
    "                   X[cname].dtype in ['int64', 'float64']]\n",
    "# Keep only the numerical and categorical columns\n",
    "my_cols = categorical_cols + numerical_cols\n",
    "X = X[my_cols]\n",
    "# Check the number of missing values in each column\n",
    "missing_values = X.isnull().sum()\n",
    "# Keep only the columns with missing values\n",
    "missing_values = missing_values[missing_values > 0]\n",
    "# Print the columns with missing values\n",
    "print(missing_values.index.tolist())"
   ]
  },
  {
   "cell_type": "markdown",
   "id": "7bf060e2",
   "metadata": {},
   "source": [
    "# Preprocessing (more features): replacing text values by integer values"
   ]
  },
  {
   "cell_type": "code",
   "execution_count": 123,
   "id": "42cc5600",
   "metadata": {},
   "outputs": [],
   "source": [
    "# Preprocessing to add 2 more columns : Carburant, Boite_vitesse\n",
    "map_energy = {'Essence': 0, 'Gaz': 0, 'Diesel': 1, 'Hybride': 2, 'Electrique': 3}\n",
    "car_data.Carburant = [map_energy[en]for en in car_data.Carburant]\n",
    "\n",
    "map_gb = {'Manuelle': 0, 'Automatique': 1}\n",
    "car_data.Boite_vitesse = [map_gb[gb]for gb in car_data.Boite_vitesse]"
   ]
  },
  {
   "cell_type": "code",
   "execution_count": 124,
   "id": "10808ba3",
   "metadata": {},
   "outputs": [
    {
     "data": {
      "text/html": [
       "<div>\n",
       "<style scoped>\n",
       "    .dataframe tbody tr th:only-of-type {\n",
       "        vertical-align: middle;\n",
       "    }\n",
       "\n",
       "    .dataframe tbody tr th {\n",
       "        vertical-align: top;\n",
       "    }\n",
       "\n",
       "    .dataframe thead th {\n",
       "        text-align: right;\n",
       "    }\n",
       "</style>\n",
       "<table border=\"1\" class=\"dataframe\">\n",
       "  <thead>\n",
       "    <tr style=\"text-align: right;\">\n",
       "      <th></th>\n",
       "      <th>Annee_modele</th>\n",
       "      <th>Km</th>\n",
       "      <th>Carburant</th>\n",
       "      <th>Boite_vitesse</th>\n",
       "      <th>Puissance</th>\n",
       "      <th>Prix_neuf</th>\n",
       "      <th>Prix_occasion</th>\n",
       "    </tr>\n",
       "  </thead>\n",
       "  <tbody>\n",
       "    <tr>\n",
       "      <th>count</th>\n",
       "      <td>22.000000</td>\n",
       "      <td>22.000000</td>\n",
       "      <td>22.000000</td>\n",
       "      <td>22.000000</td>\n",
       "      <td>22.000000</td>\n",
       "      <td>22.0</td>\n",
       "      <td>22.000000</td>\n",
       "    </tr>\n",
       "    <tr>\n",
       "      <th>mean</th>\n",
       "      <td>2014.681818</td>\n",
       "      <td>133383.272727</td>\n",
       "      <td>1.000000</td>\n",
       "      <td>0.318182</td>\n",
       "      <td>126.363636</td>\n",
       "      <td>75000.0</td>\n",
       "      <td>46230.181818</td>\n",
       "    </tr>\n",
       "    <tr>\n",
       "      <th>std</th>\n",
       "      <td>1.249242</td>\n",
       "      <td>69976.496241</td>\n",
       "      <td>0.872872</td>\n",
       "      <td>0.476731</td>\n",
       "      <td>34.578476</td>\n",
       "      <td>0.0</td>\n",
       "      <td>5892.787873</td>\n",
       "    </tr>\n",
       "    <tr>\n",
       "      <th>min</th>\n",
       "      <td>2013.000000</td>\n",
       "      <td>34675.000000</td>\n",
       "      <td>0.000000</td>\n",
       "      <td>0.000000</td>\n",
       "      <td>90.000000</td>\n",
       "      <td>75000.0</td>\n",
       "      <td>34914.000000</td>\n",
       "    </tr>\n",
       "    <tr>\n",
       "      <th>25%</th>\n",
       "      <td>2014.000000</td>\n",
       "      <td>78451.500000</td>\n",
       "      <td>0.000000</td>\n",
       "      <td>0.000000</td>\n",
       "      <td>90.000000</td>\n",
       "      <td>75000.0</td>\n",
       "      <td>41446.500000</td>\n",
       "    </tr>\n",
       "    <tr>\n",
       "      <th>50%</th>\n",
       "      <td>2014.500000</td>\n",
       "      <td>127231.000000</td>\n",
       "      <td>1.000000</td>\n",
       "      <td>0.000000</td>\n",
       "      <td>120.000000</td>\n",
       "      <td>75000.0</td>\n",
       "      <td>44706.000000</td>\n",
       "    </tr>\n",
       "    <tr>\n",
       "      <th>75%</th>\n",
       "      <td>2016.000000</td>\n",
       "      <td>191467.250000</td>\n",
       "      <td>2.000000</td>\n",
       "      <td>1.000000</td>\n",
       "      <td>150.000000</td>\n",
       "      <td>75000.0</td>\n",
       "      <td>51412.500000</td>\n",
       "    </tr>\n",
       "    <tr>\n",
       "      <th>max</th>\n",
       "      <td>2016.000000</td>\n",
       "      <td>249866.000000</td>\n",
       "      <td>2.000000</td>\n",
       "      <td>1.000000</td>\n",
       "      <td>200.000000</td>\n",
       "      <td>75000.0</td>\n",
       "      <td>57050.000000</td>\n",
       "    </tr>\n",
       "  </tbody>\n",
       "</table>\n",
       "</div>"
      ],
      "text/plain": [
       "       Annee_modele             Km  Carburant  Boite_vitesse   Puissance  \\\n",
       "count     22.000000      22.000000  22.000000      22.000000   22.000000   \n",
       "mean    2014.681818  133383.272727   1.000000       0.318182  126.363636   \n",
       "std        1.249242   69976.496241   0.872872       0.476731   34.578476   \n",
       "min     2013.000000   34675.000000   0.000000       0.000000   90.000000   \n",
       "25%     2014.000000   78451.500000   0.000000       0.000000   90.000000   \n",
       "50%     2014.500000  127231.000000   1.000000       0.000000  120.000000   \n",
       "75%     2016.000000  191467.250000   2.000000       1.000000  150.000000   \n",
       "max     2016.000000  249866.000000   2.000000       1.000000  200.000000   \n",
       "\n",
       "       Prix_neuf  Prix_occasion  \n",
       "count       22.0      22.000000  \n",
       "mean     75000.0   46230.181818  \n",
       "std          0.0    5892.787873  \n",
       "min      75000.0   34914.000000  \n",
       "25%      75000.0   41446.500000  \n",
       "50%      75000.0   44706.000000  \n",
       "75%      75000.0   51412.500000  \n",
       "max      75000.0   57050.000000  "
      ]
     },
     "execution_count": 124,
     "metadata": {},
     "output_type": "execute_result"
    }
   ],
   "source": [
    "car_data.describe()"
   ]
  },
  {
   "cell_type": "code",
   "execution_count": 125,
   "id": "9567bdb3",
   "metadata": {},
   "outputs": [],
   "source": [
    "# Filter rows with missing price values\n",
    "filtered_car_data = car_data.dropna(axis=0)"
   ]
  },
  {
   "cell_type": "code",
   "execution_count": 126,
   "id": "e741da61",
   "metadata": {},
   "outputs": [],
   "source": [
    "# Choose target and features\n",
    "y = filtered_car_data.Prix_occasion\n",
    "\n",
    "car_features = ['Annee_modele',\t'Km', 'Carburant', 'Boite_vitesse', 'Puissance']\n",
    "X = filtered_car_data[car_features]"
   ]
  },
  {
   "cell_type": "code",
   "execution_count": 127,
   "id": "ba69df02",
   "metadata": {},
   "outputs": [],
   "source": [
    "from sklearn.model_selection import train_test_split\n",
    "\n",
    "def train_test_split_predict(model: object):\n",
    "    # split data into training and validation data, for both features and target\n",
    "    # The split is based on a random number generator. Supplying a numeric value to\n",
    "    # the random_state argument guarantees we get the same split every time we\n",
    "    # run this script.\n",
    "    train_X, val_X, train_y, val_y = train_test_split(X, y, random_state = 0)\n",
    "    # Define model\n",
    "    car_model = model()\n",
    "    # Fit model\n",
    "    car_model.fit(train_X, train_y)\n",
    "\n",
    "    # get predicted prices on validation data\n",
    "    val_predictions = car_model.predict(val_X)\n",
    "    #print(mean_absolute_error(val_y, val_predictions))\n",
    "\n",
    "    return {'model': car_model, 'val_y': val_y, 'val_pred': val_predictions}\n"
   ]
  },
  {
   "cell_type": "code",
   "execution_count": 128,
   "id": "f15d0ad3",
   "metadata": {},
   "outputs": [],
   "source": [
    "from sklearn.metrics import mean_squared_error,root_mean_squared_error, r2_score, mean_absolute_error\n",
    "\n",
    "def evaluation(type: str, y, pred):\n",
    "    # 'type' model evaluation\n",
    "    print(f\"\\n{type} evaluation:\")\n",
    "    mse = mean_squared_error(y, pred)\n",
    "    print(f'Mean Squared Error: {mse}')\n",
    "    rmse = root_mean_squared_error(y, pred)\n",
    "    print(f'Root Mean Squared Error: {rmse}')\n",
    "    mae = mean_absolute_error(y, pred)\n",
    "    print(f'Mean Absolute Error: {mae}')\n",
    "    r2 = r2_score(y, pred)\n",
    "    print(f'R^2 Score: {r2}')"
   ]
  },
  {
   "cell_type": "markdown",
   "id": "347a5b44",
   "metadata": {},
   "source": [
    "# Vizualization"
   ]
  },
  {
   "cell_type": "code",
   "execution_count": 129,
   "id": "923ed136",
   "metadata": {},
   "outputs": [],
   "source": [
    "def viz(y, pred):\n",
    "    # Graphical viz\n",
    "    plt.scatter(y, pred, color='blue', label='Actual')\n",
    "    plt.plot(y, pred, color='red', label='Predicted')\n",
    "    plt.title('Decision Tree Regression')\n",
    "    plt.xlabel('Feature')\n",
    "    plt.ylabel('Target')\n",
    "    plt.legend()\n",
    "    plt.show()\n",
    "\n",
    "    # Numerical viz\n",
    "    print(\"Real values      Predictions\")\n",
    "    [print(\"{:.1f}\".format(i) + \"          {:.1f}\".format(j)) for (i, j) in zip(y, pred)]\n"
   ]
  },
  {
   "cell_type": "markdown",
   "id": "65b32c83",
   "metadata": {},
   "source": [
    "# Custom pipeline"
   ]
  },
  {
   "cell_type": "code",
   "execution_count": 130,
   "id": "09cc9c3e",
   "metadata": {},
   "outputs": [],
   "source": [
    "import matplotlib.pyplot as plt\n",
    "\n",
    "def custom_pipeline(car_model: object, val_y, val_pred, y):\n",
    "\n",
    "    # Predictions\n",
    "    pred = car_model.predict(X)\n",
    "\n",
    "    # Validation evaluation\n",
    "    evaluation(\"Validation\", val_y, val_pred)\n",
    "\n",
    "    # Overall model evaluation\n",
    "    evaluation(\"Overall\", y, pred)\n",
    "\n",
    "    # Visualize the predictions\n",
    "    viz(y, pred)\n",
    "\n"
   ]
  },
  {
   "cell_type": "markdown",
   "id": "341f6328",
   "metadata": {},
   "source": [
    "# Two models comparison : Linear regression vs Decision tree regression"
   ]
  },
  {
   "cell_type": "code",
   "execution_count": 131,
   "id": "7f90b389",
   "metadata": {},
   "outputs": [
    {
     "name": "stdout",
     "output_type": "stream",
     "text": [
      "Linear Regression:\n",
      "\n",
      "\n",
      "Validation evaluation:\n",
      "Mean Squared Error: 809015.19599202\n",
      "Root Mean Squared Error: 899.4527202649508\n",
      "Mean Absolute Error: 842.7044256798303\n",
      "R^2 Score: 0.9669247901984809\n",
      "\n",
      "Overall evaluation:\n",
      "Mean Squared Error: 511521.22940225597\n",
      "Root Mean Squared Error: 715.207123428071\n",
      "Mean Absolute Error: 605.0992613148198\n",
      "R^2 Score: 0.9845678856302245\n"
     ]
    },
    {
     "data": {
      "image/png": "[encoded data removed]",
      "text/plain": [
       "<Figure size 640x480 with 1 Axes>"
      ]
     },
     "metadata": {},
     "output_type": "display_data"
    },
    {
     "name": "stdout",
     "output_type": "stream",
     "text": [
      "Real values      Predictions\n",
      "44892.0          43388.5\n",
      "41132.0          40071.5\n",
      "42390.0          43237.8\n",
      "49600.0          48590.6\n",
      "34914.0          34829.6\n",
      "53790.0          53411.7\n",
      "43725.0          42996.5\n",
      "44520.0          44234.2\n",
      "40446.0          40308.0\n",
      "39200.0          39439.7\n",
      "50820.0          51865.7\n",
      "46905.0          46961.9\n",
      "44138.0          44759.2\n",
      "51610.0          50291.1\n",
      "57050.0          56471.6\n",
      "40092.0          40631.9\n",
      "40227.0          40756.1\n",
      "54072.0          54646.0\n",
      "44254.0          44532.6\n",
      "51957.0          52397.8\n",
      "47936.0          48524.8\n",
      "53394.0          52930.0\n"
     ]
    }
   ],
   "source": [
    "# Linear regression\n",
    "print(\"Linear Regression:\\n\")\n",
    "result = train_test_split_predict(LinearRegression)\n",
    "car_model = result['model']\n",
    "val_pred  = result['val_pred']\n",
    "val_y     = result['val_y']\n",
    "\n",
    "custom_pipeline(car_model, val_y, val_pred, y)"
   ]
  },
  {
   "cell_type": "code",
   "execution_count": 132,
   "id": "e2540d5e",
   "metadata": {},
   "outputs": [
    {
     "name": "stdout",
     "output_type": "stream",
     "text": [
      "Decision Tree Regression:\n",
      "\n",
      "\n",
      "Validation evaluation:\n",
      "Mean Squared Error: 10612461.5\n",
      "Root Mean Squared Error: 3257.677316739643\n",
      "Mean Absolute Error: 2694.5\n",
      "R^2 Score: 0.5661275679838945\n",
      "\n",
      "Overall evaluation:\n",
      "Mean Squared Error: 2894307.6818181816\n",
      "Root Mean Squared Error: 1701.2664934742534\n",
      "Mean Absolute Error: 734.8636363636364\n",
      "R^2 Score: 0.9126814595372077\n"
     ]
    },
    {
     "data": {
      "image/png": "[encoded data removed]",
      "text/plain": [
       "<Figure size 640x480 with 1 Axes>"
      ]
     },
     "metadata": {},
     "output_type": "display_data"
    },
    {
     "name": "stdout",
     "output_type": "stream",
     "text": [
      "Real values      Predictions\n",
      "44892.0          44892.0\n",
      "41132.0          34914.0\n",
      "42390.0          42390.0\n",
      "49600.0          49600.0\n",
      "34914.0          34914.0\n",
      "53790.0          53790.0\n",
      "43725.0          43725.0\n",
      "44520.0          44520.0\n",
      "40446.0          40446.0\n",
      "39200.0          39200.0\n",
      "50820.0          53790.0\n",
      "46905.0          46905.0\n",
      "44138.0          44138.0\n",
      "51610.0          49600.0\n",
      "57050.0          53790.0\n",
      "40092.0          40092.0\n",
      "40227.0          40227.0\n",
      "54072.0          54072.0\n",
      "44254.0          44254.0\n",
      "51957.0          51957.0\n",
      "47936.0          46905.0\n",
      "53394.0          54072.0\n"
     ]
    }
   ],
   "source": [
    "# Decision tree regression\n",
    "print(\"Decision Tree Regression:\\n\")\n",
    "result = train_test_split_predict(DecisionTreeRegressor)\n",
    "car_model = result['model']\n",
    "val_pred  = result['val_pred']\n",
    "val_y     = result['val_y']\n",
    "\n",
    "custom_pipeline(car_model, val_y, val_pred, y)"
   ]
  }
 ],
 "metadata": {
  "kernelspec": {
   "display_name": "base",
   "language": "python",
   "name": "python3"
  },
  "language_info": {
   "codemirror_mode": {
    "name": "ipython",
    "version": 3
   },
   "file_extension": ".py",
   "mimetype": "text/x-python",
   "name": "python",
   "nbconvert_exporter": "python",
   "pygments_lexer": "ipython3",
   "version": "3.13.2"
  }
 },
 "nbformat": 4,
 "nbformat_minor": 5
}
